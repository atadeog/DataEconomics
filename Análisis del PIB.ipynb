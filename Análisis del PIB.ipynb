{
 "cells": [
  {
   "cell_type": "markdown",
   "metadata": {},
   "source": [
    "Análisis del PIB de México usando Python. \n",
    "Se realiza un análisis de regresión lineal y uno polinomial de oren >1 respecto del consumo privado\n",
    "se comparan las bondades de ajuste\n",
    "se realiza un pronósitico.\n",
    "se plica un filtro de Hodrick y Prescott para el ngreso nacional y se analiza el ciclo y la tendencia para México.\n"
   ]
  },
  {
   "cell_type": "code",
   "execution_count": 225,
   "metadata": {},
   "outputs": [],
   "source": [
    "#importamos las librerías necesarias\n",
    "import pandas as pd# para trabjar con Dataframes\n",
    "import numpy as np #librería de análisis numérico\n",
    "import matplotlib.pyplot as plt#para graficar los resultados"
   ]
  },
  {
   "cell_type": "code",
   "execution_count": 189,
   "metadata": {},
   "outputs": [
    {
     "data": {
      "text/html": [
       "<div>\n",
       "<style scoped>\n",
       "    .dataframe tbody tr th:only-of-type {\n",
       "        vertical-align: middle;\n",
       "    }\n",
       "\n",
       "    .dataframe tbody tr th {\n",
       "        vertical-align: top;\n",
       "    }\n",
       "\n",
       "    .dataframe thead th {\n",
       "        text-align: right;\n",
       "    }\n",
       "</style>\n",
       "<table border=\"1\" class=\"dataframe\">\n",
       "  <thead>\n",
       "    <tr style=\"text-align: right;\">\n",
       "      <th></th>\n",
       "      <th>Año</th>\n",
       "      <th>Producto interno bruto</th>\n",
       "      <th>tasas de crec del pib</th>\n",
       "      <th>Importaciones de bienes y servicios</th>\n",
       "      <th>Oferta y demanda</th>\n",
       "      <th>Consumo privado</th>\n",
       "      <th>Consumo de gobierno</th>\n",
       "      <th>Formación bruta de capital fijo</th>\n",
       "      <th>Variación de existencias</th>\n",
       "      <th>Exportaciones de bienes y servicios</th>\n",
       "    </tr>\n",
       "  </thead>\n",
       "  <tbody>\n",
       "    <tr>\n",
       "      <th>0</th>\n",
       "      <td>1993</td>\n",
       "      <td>1.016557e+07</td>\n",
       "      <td>NaN</td>\n",
       "      <td>1577244.709</td>\n",
       "      <td>1.174282e+07</td>\n",
       "      <td>6310223.852</td>\n",
       "      <td>1409971.789</td>\n",
       "      <td>2145592.016</td>\n",
       "      <td>124719.790</td>\n",
       "      <td>1488167.826</td>\n",
       "    </tr>\n",
       "    <tr>\n",
       "      <th>1</th>\n",
       "      <td>1994</td>\n",
       "      <td>1.066786e+07</td>\n",
       "      <td>0.049411</td>\n",
       "      <td>1857120.147</td>\n",
       "      <td>1.252498e+07</td>\n",
       "      <td>6644793.945</td>\n",
       "      <td>1452318.153</td>\n",
       "      <td>2460433.781</td>\n",
       "      <td>137831.383</td>\n",
       "      <td>1619054.743</td>\n",
       "    </tr>\n",
       "    <tr>\n",
       "      <th>2</th>\n",
       "      <td>1995</td>\n",
       "      <td>9.996721e+06</td>\n",
       "      <td>-0.062912</td>\n",
       "      <td>1561053.684</td>\n",
       "      <td>1.155777e+07</td>\n",
       "      <td>6254226.306</td>\n",
       "      <td>1436595.436</td>\n",
       "      <td>1578455.250</td>\n",
       "      <td>207521.116</td>\n",
       "      <td>1946070.846</td>\n",
       "    </tr>\n",
       "    <tr>\n",
       "      <th>3</th>\n",
       "      <td>1996</td>\n",
       "      <td>1.067382e+07</td>\n",
       "      <td>0.067733</td>\n",
       "      <td>1833893.978</td>\n",
       "      <td>1.250772e+07</td>\n",
       "      <td>6537720.731</td>\n",
       "      <td>1436303.198</td>\n",
       "      <td>1884722.340</td>\n",
       "      <td>182667.438</td>\n",
       "      <td>2246698.545</td>\n",
       "    </tr>\n",
       "    <tr>\n",
       "      <th>4</th>\n",
       "      <td>1997</td>\n",
       "      <td>1.140465e+07</td>\n",
       "      <td>0.068469</td>\n",
       "      <td>2257764.392</td>\n",
       "      <td>1.366241e+07</td>\n",
       "      <td>7026835.954</td>\n",
       "      <td>1505832.807</td>\n",
       "      <td>2170678.431</td>\n",
       "      <td>188068.425</td>\n",
       "      <td>2457556.184</td>\n",
       "    </tr>\n",
       "  </tbody>\n",
       "</table>\n",
       "</div>"
      ],
      "text/plain": [
       "    Año   Producto interno bruto  tasas de crec del pib  \\\n",
       "0  1993             1.016557e+07                    NaN   \n",
       "1  1994             1.066786e+07               0.049411   \n",
       "2  1995             9.996721e+06              -0.062912   \n",
       "3  1996             1.067382e+07               0.067733   \n",
       "4  1997             1.140465e+07               0.068469   \n",
       "\n",
       "   Importaciones de bienes y servicios  Oferta y demanda  Consumo privado  \\\n",
       "0                          1577244.709      1.174282e+07      6310223.852   \n",
       "1                          1857120.147      1.252498e+07      6644793.945   \n",
       "2                          1561053.684      1.155777e+07      6254226.306   \n",
       "3                          1833893.978      1.250772e+07      6537720.731   \n",
       "4                          2257764.392      1.366241e+07      7026835.954   \n",
       "\n",
       "   Consumo de gobierno  Formación bruta de capital fijo  \\\n",
       "0          1409971.789                      2145592.016   \n",
       "1          1452318.153                      2460433.781   \n",
       "2          1436595.436                      1578455.250   \n",
       "3          1436303.198                      1884722.340   \n",
       "4          1505832.807                      2170678.431   \n",
       "\n",
       "    Variación de existencias   Exportaciones de bienes y servicios  \n",
       "0                 124719.790                           1488167.826  \n",
       "1                 137831.383                           1619054.743  \n",
       "2                 207521.116                           1946070.846  \n",
       "3                 182667.438                           2246698.545  \n",
       "4                 188068.425                           2457556.184  "
      ]
     },
     "execution_count": 189,
     "metadata": {},
     "output_type": "execute_result"
    }
   ],
   "source": [
    "#Cargamos la información descargada: fuente INEGI (Cuentas Nacionales)\n",
    "data=pd.read_excel('Analisis PIB1.xlsx', index_col=None)\n",
    "data.head()\n",
    "#print(data[['Año', ' Producto interno bruto']])"
   ]
  },
  {
   "cell_type": "code",
   "execution_count": 226,
   "metadata": {},
   "outputs": [
    {
     "data": {
      "image/png": "[encoded data removed]",
      "text/plain": [
       "<Figure size 432x288 with 1 Axes>"
      ]
     },
     "metadata": {
      "needs_background": "light"
     },
     "output_type": "display_data"
    }
   ],
   "source": [
    "#A continuación se genera la gráfica del PIB\n",
    "plt.plot(data['Año'],data[' Producto interno bruto']); plt.xlabel('Año'); plt.ylabel('PIB');\n",
    "plt.show()"
   ]
  },
  {
   "cell_type": "code",
   "execution_count": 191,
   "metadata": {},
   "outputs": [],
   "source": [
    "PIB=np.array(data[' Producto interno bruto'])\n",
    "C=np.array(data['Consumo privado'])"
   ]
  },
  {
   "cell_type": "code",
   "execution_count": 192,
   "metadata": {},
   "outputs": [
    {
     "name": "stdout",
     "output_type": "stream",
     "text": [
      "(27, 2)\n"
     ]
    }
   ],
   "source": [
    "#Utilizamos una columna de unos para el intercepto y se requiere la transpuesta de C con intercepto\n",
    "C2=np.array([np.ones(27), C]).T\n",
    "#print(C2)\n",
    "print(C2.shape)"
   ]
  },
  {
   "cell_type": "code",
   "execution_count": 227,
   "metadata": {},
   "outputs": [
    {
     "data": {
      "text/plain": [
       "<function matplotlib.pyplot.show(*args, **kw)>"
      ]
     },
     "execution_count": 227,
     "metadata": {},
     "output_type": "execute_result"
    },
    {
     "data": {
      "image/png": "[encoded data removed]",
      "text/plain": [
       "<Figure size 432x288 with 1 Axes>"
      ]
     },
     "metadata": {
      "needs_background": "light"
     },
     "output_type": "display_data"
    }
   ],
   "source": [
    "#como vamos a generar un modelo del PIB con base en el Consumo de las familias procedemos a graficar uno vs el otro\n",
    "plt.scatter(C,PIB, linewidth=2,\n",
    "               alpha=0.5, edgecolors='#9467bd');plt.xlabel('Consumo Privado'); plt.ylabel('PIB');\n",
    "plt.show"
   ]
  },
  {
   "cell_type": "markdown",
   "metadata": {},
   "source": [
    "Recordamos que para minimizar los errores por el método de mínimos cuadrados se usa: $\\beta = (X^{T}X)^{-1}X^{T}Y$"
   ]
  },
  {
   "cell_type": "code",
   "execution_count": 228,
   "metadata": {
    "scrolled": false
   },
   "outputs": [
    {
     "name": "stdout",
     "output_type": "stream",
     "text": [
      "[1.34234601e+00 1.55644051e+06]\n",
      " \n",
      "1.342 x + 1.556e+06\n"
     ]
    },
    {
     "data": {
      "image/png": "[encoded data removed]",
      "text/plain": [
       "<Figure size 432x288 with 1 Axes>"
      ]
     },
     "metadata": {
      "needs_background": "light"
     },
     "output_type": "display_data"
    }
   ],
   "source": [
    "#Se realizan las operaciones indicadas,  una vez obtenido beta generamos el modelo de la regresión\n",
    "b=np.linalg.inv(C2.T @ C2)@C2.T@PIB\n",
    "B=np.array([b[1], b[0]])\n",
    "print(B)\n",
    "modelo=np.poly1d(B)\n",
    "print(modelo)\n",
    "plt.scatter(C,PIB, alpha=0.3);plt.xlabel('Consumo Privado'); plt.ylabel('PIB');\n",
    "#La siguiente es la represenación gráfica del modelo:\n",
    "plt.plot([0.6e+7, 1.24825996e+07],[b[0]+ b[1]*0.6e+7, b[0]+ b[1]*1.24825996e+07], c=\"red\")\n",
    "plt.show\n",
    "Ý1=modelo(C)\n",
    "#print(Ý1)\n",
    "#print(PIB)"
   ]
  },
  {
   "cell_type": "code",
   "execution_count": 181,
   "metadata": {},
   "outputs": [
    {
     "name": "stdout",
     "output_type": "stream",
     "text": [
      "0.9804319637871489\n"
     ]
    }
   ],
   "source": [
    "#Obtenemos la bondad de ajuste del modelo lineal simple\n",
    "from sklearn.metrics import r2_score\n",
    "R2=r2_score(PIB, modelo(C))\n",
    "print(R2)"
   ]
  },
  {
   "cell_type": "code",
   "execution_count": 231,
   "metadata": {},
   "outputs": [
    {
     "name": "stdout",
     "output_type": "stream",
     "text": [
      "           6             5             4             3             2\n",
      "3.949e-33 x - 2.231e-25 x + 5.165e-18 x - 6.267e-11 x + 0.0004202 x - 1474 x + 2.121e+09\n"
     ]
    },
    {
     "data": {
      "image/png": "[encoded data removed]",
      "text/plain": [
       "<Figure size 432x288 with 1 Axes>"
      ]
     },
     "metadata": {
      "needs_background": "light"
     },
     "output_type": "display_data"
    },
    {
     "name": "stdout",
     "output_type": "stream",
     "text": [
      "0.997569675667948\n"
     ]
    }
   ],
   "source": [
    "# a Nocntinuación obtenemos un moelo e ajuste no lienal usando un plinómio de 6o grado\n",
    "model = np.polyfit(C, PIB, 6)\n",
    "#print(model)\n",
    "Ý = np.poly1d(model)\n",
    "#mostramos el polinomio encontrado\n",
    "print(Ý)\n",
    "#Obtenemos la Bondad de ajuste\n",
    "from sklearn.metrics import r2_score\n",
    "R_2=r2_score(PIB, Ý(C))\n",
    "#Obtenemos el rango a graficar:\n",
    "C_lin_reg= range(6000000,13000000)\n",
    "PIB_line_reg=Ý(C_lin_reg)\n",
    "plt.scatter(C, PIB, alpha=0.3); plt.xlabel('Consumo Privado'); plt.ylabel('PIB');\n",
    "\n",
    "plt.plot(C_lin_reg, PIB_line_reg, c = 'r')\n",
    "plt.show()\n",
    "# mostramos la bondad de ajuste para el nuevo modelo\n",
    "print(R_2)"
   ]
  },
  {
   "cell_type": "code",
   "execution_count": 232,
   "metadata": {},
   "outputs": [
    {
     "name": "stdout",
     "output_type": "stream",
     "text": [
      "0.997569675667948\n"
     ]
    }
   ],
   "source": [
    "M_aj=np.maximum(R_2, R_22)\n",
    "print(M_aj)"
   ]
  },
  {
   "cell_type": "code",
   "execution_count": null,
   "metadata": {},
   "outputs": [],
   "source": []
  }
 ],
 "metadata": {
  "kernelspec": {
   "display_name": "Python 3",
   "language": "python",
   "name": "python3"
  },
  "language_info": {
   "codemirror_mode": {
    "name": "ipython",
    "version": 3
   },
   "file_extension": ".py",
   "mimetype": "text/x-python",
   "name": "python",
   "nbconvert_exporter": "python",
   "pygments_lexer": "ipython3",
   "version": "3.7.6"
  }
 },
 "nbformat": 4,
 "nbformat_minor": 4
}
